{
 "cells": [
  {
   "cell_type": "code",
   "execution_count": 12,
   "metadata": {},
   "outputs": [
    {
     "name": "stdout",
     "output_type": "stream",
     "text": [
      "The autoreload extension is already loaded. To reload it, use:\n",
      "  %reload_ext autoreload\n"
     ]
    }
   ],
   "source": [
    "%load_ext autoreload\n",
    "%autoreload 2"
   ]
  },
  {
   "cell_type": "code",
   "execution_count": 17,
   "metadata": {},
   "outputs": [
    {
     "ename": "TypeError",
     "evalue": "Configuration.__init__() got an unexpected keyword argument 'hi'",
     "output_type": "error",
     "traceback": [
      "\u001b[0;31m---------------------------------------------------------------------------\u001b[0m",
      "\u001b[0;31mTypeError\u001b[0m                                 Traceback (most recent call last)",
      "Cell \u001b[0;32mIn[17], line 54\u001b[0m\n\u001b[1;32m     49\u001b[0m     config_type: Optional[\u001b[38;5;28mstr\u001b[39m] \u001b[38;5;241m=\u001b[39m DEFAULT_CONFIG_TYPE  \u001b[38;5;66;03m# config_type of config\u001b[39;00m\n\u001b[1;32m     52\u001b[0m Configurations \u001b[38;5;241m=\u001b[39m List[Configuration]\n\u001b[0;32m---> 54\u001b[0m \u001b[43mConfiguration\u001b[49m\u001b[43m(\u001b[49m\u001b[43m[\u001b[49m\u001b[38;5;241;43m1\u001b[39;49m\u001b[43m]\u001b[49m\u001b[43m,\u001b[49m\u001b[43m \u001b[49m\u001b[43m[\u001b[49m\u001b[38;5;241;43m2\u001b[39;49m\u001b[43m]\u001b[49m\u001b[43m,\u001b[49m\u001b[43m \u001b[49m\u001b[43mhi\u001b[49m\u001b[38;5;241;43m=\u001b[39;49m\u001b[38;5;241;43m1\u001b[39;49m\u001b[43m)\u001b[49m\n",
      "\u001b[0;31mTypeError\u001b[0m: Configuration.__init__() got an unexpected keyword argument 'hi'"
     ]
    }
   ],
   "source": [
    "###########################################################################################\n",
    "# Data parsing utilities\n",
    "# Authors: Ilyes Batatia, Gregor Simm and David Kovacs\n",
    "# This program is distributed under the MIT License (see MIT.md)\n",
    "###########################################################################################\n",
    "\n",
    "import logging\n",
    "from dataclasses import dataclass\n",
    "from typing import Dict, List, Optional, Sequence, Tuple\n",
    "\n",
    "import ase.data\n",
    "import ase.io\n",
    "import h5py\n",
    "import numpy as np\n",
    "\n",
    "from mace.tools import AtomicNumberTable\n",
    "\n",
    "Vector = np.ndarray  # [3,]\n",
    "Positions = np.ndarray  # [..., 3]\n",
    "Forces = np.ndarray  # [..., 3]\n",
    "Stress = np.ndarray  # [6, ], [3,3], [9, ]\n",
    "Virials = np.ndarray  # [6, ], [3,3], [9, ]\n",
    "Charges = np.ndarray  # [..., 1]\n",
    "Cell = np.ndarray  # [3,3]\n",
    "Pbc = tuple  # (3,)\n",
    "\n",
    "DEFAULT_CONFIG_TYPE = \"Default\"\n",
    "DEFAULT_CONFIG_TYPE_WEIGHTS = {DEFAULT_CONFIG_TYPE: 1.0}\n",
    "\n",
    "\n",
    "@dataclass\n",
    "class Configuration:\n",
    "    atomic_numbers: np.ndarray\n",
    "    positions: Positions  # Angstrom\n",
    "    energy: Optional[float] = None  # eV\n",
    "    forces: Optional[Forces] = None  # eV/Angstrom\n",
    "    stress: Optional[Stress] = None  # eV/Angstrom^3\n",
    "    virials: Optional[Virials] = None  # eV\n",
    "    dipole: Optional[Vector] = None  # Debye\n",
    "    charges: Optional[Charges] = None  # atomic unit\n",
    "    cell: Optional[Cell] = None\n",
    "    pbc: Optional[Pbc] = None\n",
    "\n",
    "    weight: float = 1.0  # weight of config in loss\n",
    "    energy_weight: float = 1.0  # weight of config energy in loss\n",
    "    forces_weight: float = 1.0  # weight of config forces in loss\n",
    "    stress_weight: float = 1.0  # weight of config stress in loss\n",
    "    virials_weight: float = 1.0  # weight of config virial in loss\n",
    "    config_type: Optional[str] = DEFAULT_CONFIG_TYPE  # config_type of config\n",
    "\n",
    "    # Additional fields can be handled with a flexible dictionary\n",
    "    additional_fields: Dict[str, Any] = field(default_factory=dict)\n",
    "\n",
    "\n",
    "Configurations = List[Configuration]\n",
    "\n",
    "Configuration([1], [2], hi=1)"
   ]
  },
  {
   "cell_type": "code",
   "execution_count": 13,
   "metadata": {},
   "outputs": [],
   "source": [
    "from pathlib import Path\n",
    "import numpy as np\n",
    "import pandas as pd\n",
    "from ase import Atoms\n",
    "from ase.io import read, write"
   ]
  },
  {
   "cell_type": "code",
   "execution_count": 8,
   "metadata": {},
   "outputs": [
    {
     "name": "stdout",
     "output_type": "stream",
     "text": [
      "720\n",
      "300\n"
     ]
    }
   ],
   "source": [
    "# train + val\n",
    "df_train_total_energy = pd.read_csv(\n",
    "    \"dataset/gold-odac-2024/train/DFT-train_results.csv\"\n",
    ")\n",
    "df_train_total = pd.read_json(\"dataset/gold-odac-2024/train/train.json\")\n",
    "# join the two dataframes\n",
    "df_train_total = df_train_total.merge(df_train_total_energy, on=\"Name\")\n",
    "print(len(df_train_total))\n",
    "# test\n",
    "df_test_total_energy = pd.read_csv(\"dataset/gold-odac-2024/test/DFT-test_results.csv\")\n",
    "df_test_total = pd.read_json(\"dataset/gold-odac-2024/test/test.json\")\n",
    "df_test = df_test_total.merge(df_test_total_energy, on=\"Name\")\n",
    "print(len(df_test))"
   ]
  },
  {
   "cell_type": "code",
   "execution_count": 9,
   "metadata": {},
   "outputs": [
    {
     "name": "stdout",
     "output_type": "stream",
     "text": [
      "480 240 300\n"
     ]
    }
   ],
   "source": [
    "# Constants for splitting\n",
    "train_size = 24\n",
    "val_size = 12\n",
    "split_size = train_size + val_size\n",
    "\n",
    "# Containers for train and validation splits\n",
    "train_splits = []\n",
    "val_splits = []\n",
    "\n",
    "# Split the DataFrame\n",
    "for i in range(len(df_train_total) // split_size):\n",
    "    start_idx = i * split_size\n",
    "    train_end_idx = start_idx + train_size\n",
    "    val_end_idx = train_end_idx + val_size\n",
    "\n",
    "    # Append the slices to the respective lists\n",
    "    train_splits.append(df_train_total.iloc[start_idx:train_end_idx])\n",
    "    val_splits.append(df_train_total.iloc[train_end_idx:val_end_idx])\n",
    "\n",
    "# Concatenate the lists into DataFrames if needed\n",
    "df_train = pd.concat(train_splits, ignore_index=True)\n",
    "df_val = pd.concat(val_splits, ignore_index=True)\n",
    "print(len(df_train), len(df_val), len(df_test))"
   ]
  },
  {
   "cell_type": "code",
   "execution_count": 10,
   "metadata": {},
   "outputs": [
    {
     "name": "stdout",
     "output_type": "stream",
     "text": [
      "480 240 300\n"
     ]
    }
   ],
   "source": [
    "assert len(df_train[\"Name\"].apply(lambda x: x.split(\"_\")[0]).unique()) == 40\n",
    "assert len(df_val[\"Name\"].apply(lambda x: x.split(\"_\")[0]).unique()) == 20\n",
    "assert len(df_test[\"Name\"].apply(lambda x: x.split(\"_\")[0]).unique()) == 25\n",
    "# Discard if interaction energy > 2 eV\n",
    "# df_train = df_train[df_train[\"DFT_E_int\"] < 2]\n",
    "# df_val = df_val[df_val[\"DFT_E_int\"] < 2]\n",
    "# df_test = df_test[df_test[\"DFT_E_int\"] < 2]\n",
    "print(len(df_train), len(df_val), len(df_test))"
   ]
  },
  {
   "cell_type": "code",
   "execution_count": 16,
   "metadata": {},
   "outputs": [],
   "source": [
    "def make_mace_dataset(df, save_path=None):\n",
    "    atoms_list = []\n",
    "    for i, row in df.iterrows():\n",
    "        st = row[\"Structure\"]\n",
    "        atoms = Atoms(\n",
    "            numbers=st[\"numbers\"],\n",
    "            positions=st[\"positions\"],\n",
    "            cell=st[\"cell\"],\n",
    "            pbc=st[\"pbc\"],\n",
    "        )\n",
    "        # set tags\n",
    "        atoms.set_tags(row[\"Tag\"])\n",
    "        # set arrays\n",
    "        atoms.arrays[\"forces\"] = np.array(row[\"Forces\"])\n",
    "        # save info\n",
    "        atoms.info[\"energy\"] = row[\"DFT_E_total\"]\n",
    "        atoms.info[\"name\"] = row[\"Name\"]\n",
    "        atoms.info[\"group\"] = row[\"Group\"]\n",
    "        atoms.info[\"metal\"] = row[\"Metal\"]\n",
    "        atoms.info[\"DFT_E_total\"] = row[\"DFT_E_total\"]\n",
    "        atoms.info[\"DFT_E_mof\"] = row[\"DFT_E_mof\"]\n",
    "        atoms.info[\"DFT_E_gas\"] = row[\"DFT_E_gas\"]\n",
    "        atoms.info[\"DFT_E_int\"] = row[\"DFT_E_int\"]\n",
    "        # append to list\n",
    "        atoms_list.append(atoms)\n",
    "\n",
    "    if save_path:\n",
    "        Path(save_path).parent.mkdir(parents=True, exist_ok=True)\n",
    "        write(save_path, atoms_list)\n",
    "    else:\n",
    "        return atoms_list"
   ]
  },
  {
   "cell_type": "code",
   "execution_count": 17,
   "metadata": {},
   "outputs": [],
   "source": [
    "# make_mace_dataset(df_train, \"dataset/gold-odac-2024/v1/train.xyz\")\n",
    "# make_mace_dataset(df_val, \"dataset/gold-odac-2024/v1/val.xyz\")\n",
    "make_mace_dataset(df_test, \"dataset/gold-odac-2024/v1/test.xyz\")"
   ]
  },
  {
   "cell_type": "code",
   "execution_count": 3,
   "metadata": {},
   "outputs": [
    {
     "data": {
      "text/plain": [
       "(480, 240, 251)"
      ]
     },
     "execution_count": 3,
     "metadata": {},
     "output_type": "execute_result"
    }
   ],
   "source": [
    "len(read(\"dataset/gold-odac-2024/v1/train.xyz\", index=\":\")), len(\n",
    "    read(\"dataset/gold-odac-2024/v1/val.xyz\", index=\":\")\n",
    "), len(read(\"dataset/gold-odac-2024/v1/test.xyz\", index=\":\")),"
   ]
  },
  {
   "cell_type": "code",
   "execution_count": 29,
   "metadata": {},
   "outputs": [
    {
     "data": {
      "text/plain": [
       "Symbols('CO2')"
      ]
     },
     "execution_count": 29,
     "metadata": {},
     "output_type": "execute_result"
    }
   ],
   "source": [
    "atoms_list = read(\"dataset/gold-odac-2024/v1/test.xyz\", index=\":\")\n",
    "atoms = atoms_list[0]\n",
    "tags = atoms.get_tags()\n",
    "atoms[tags == 1].symbols"
   ]
  },
  {
   "cell_type": "code",
   "execution_count": null,
   "metadata": {},
   "outputs": [],
   "source": []
  }
 ],
 "metadata": {
  "kernelspec": {
   "display_name": "mace",
   "language": "python",
   "name": "python3"
  },
  "language_info": {
   "codemirror_mode": {
    "name": "ipython",
    "version": 3
   },
   "file_extension": ".py",
   "mimetype": "text/x-python",
   "name": "python",
   "nbconvert_exporter": "python",
   "pygments_lexer": "ipython3",
   "version": "3.10.13"
  }
 },
 "nbformat": 4,
 "nbformat_minor": 2
}
