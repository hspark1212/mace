{
 "cells": [
  {
   "cell_type": "code",
   "execution_count": 13,
   "metadata": {},
   "outputs": [],
   "source": [
    "from mace.calculators import mace_mp\n",
    "from ase.io import read\n",
    "import pandas as pd\n",
    "from tqdm import tqdm\n",
    "import matplotlib.pyplot as plt\n",
    "import seaborn as sns\n",
    "import numpy as np\n",
    "import torch"
   ]
  },
  {
   "cell_type": "code",
   "execution_count": 11,
   "metadata": {},
   "outputs": [
    {
     "name": "stdout",
     "output_type": "stream",
     "text": [
      "Using local medium Materials Project MACE model for MACECalculator /home/hyunsoo/VScodeProjects/mace/mace/calculators/foundations_models/2023-12-03-mace-mp.model\n",
      "Using float32 for MACECalculator, which is faster but less accurate. Recommended for MD. Use float64 for geometry optimization.\n",
      "Default dtype float32 does not match model dtype float64, converting models to float32.\n",
      "Using float32 for MACECalculator, which is faster but less accurate. Recommended for MD. Use float64 for geometry optimization.\n"
     ]
    }
   ],
   "source": [
    "mace_calc = mace_mp(device=\"cuda\", default_dtype=\"float32\")\n",
    "finetuning_mace_calc = mace_mp(\n",
    "    model=\"mace_gold_odac_v1_base.model\",\n",
    "    device=\"cuda\",\n",
    "    default_dtype=\"float32\",\n",
    ")"
   ]
  },
  {
   "cell_type": "code",
   "execution_count": 27,
   "metadata": {},
   "outputs": [
    {
     "name": "stderr",
     "output_type": "stream",
     "text": [
      "  1%|▏         | 4/300 [00:00<00:10, 28.96it/s]"
     ]
    },
    {
     "name": "stdout",
     "output_type": "stream",
     "text": [
      "-22.965173193500053 -22.720104217529297\n",
      "-22.965173193500053 -22.720108032226562\n",
      "-22.965173193500053 -22.720104217529297\n",
      "-22.965173193500053 -22.720104217529297\n",
      "-22.965173193500053 -22.72010040283203\n"
     ]
    },
    {
     "name": "stderr",
     "output_type": "stream",
     "text": [
      "  3%|▎         | 10/300 [00:00<00:12, 23.94it/s]"
     ]
    },
    {
     "name": "stdout",
     "output_type": "stream",
     "text": [
      "-22.965173193500053 -22.72010040283203\n",
      "-14.226161695059131 -14.11514663696289\n",
      "-14.226161695059131 -14.115144729614258\n",
      "-14.226161695059131 -14.115141868591309\n",
      "-14.226161695059131 -14.115138053894043\n"
     ]
    },
    {
     "name": "stderr",
     "output_type": "stream",
     "text": [
      "  4%|▍         | 13/300 [00:00<00:12, 23.27it/s]"
     ]
    },
    {
     "name": "stdout",
     "output_type": "stream",
     "text": [
      "-14.226161695059131 -14.11514663696289\n",
      "-14.226161695059131 -14.115145683288574\n",
      "-22.97060424093202 -22.725852966308594\n",
      "-22.97060424093202 -22.72585678100586\n",
      "-22.97060424093202 -22.72585105895996\n"
     ]
    },
    {
     "name": "stderr",
     "output_type": "stream",
     "text": [
      "  6%|▋         | 19/300 [00:00<00:11, 23.89it/s]"
     ]
    },
    {
     "name": "stdout",
     "output_type": "stream",
     "text": [
      "-22.97060424093202 -22.725852966308594\n",
      "-22.97060424093202 -22.725852966308594\n",
      "-22.97060424093202 -22.72585678100586\n",
      "-14.230164500652034 -14.117775917053223\n",
      "-14.230164500652034 -14.117782592773438\n"
     ]
    },
    {
     "name": "stderr",
     "output_type": "stream",
     "text": [
      "  8%|▊         | 25/300 [00:01<00:11, 24.04it/s]"
     ]
    },
    {
     "name": "stdout",
     "output_type": "stream",
     "text": [
      "-14.230164500652034 -14.117783546447754\n",
      "-14.230164500652034 -14.117776870727539\n",
      "-14.230164500652034 -14.117782592773438\n",
      "-14.230164500652034 -14.117774963378906\n",
      "-22.976299434911382 -22.732820510864258\n"
     ]
    },
    {
     "name": "stderr",
     "output_type": "stream",
     "text": [
      "  9%|▉         | 28/300 [00:01<00:11, 23.25it/s]"
     ]
    },
    {
     "name": "stdout",
     "output_type": "stream",
     "text": [
      "-22.976299434911382 -22.73282241821289\n",
      "-22.976299434911382 -22.732820510864258\n",
      "-22.976299434911382 -22.732820510864258\n",
      "-22.976299434911382 -22.732816696166992\n",
      "-22.976299434911382 -22.732818603515625\n"
     ]
    },
    {
     "name": "stderr",
     "output_type": "stream",
     "text": [
      " 11%|█▏        | 34/300 [00:01<00:11, 23.38it/s]"
     ]
    },
    {
     "name": "stdout",
     "output_type": "stream",
     "text": [
      "-14.236641029229524 -14.12486457824707\n",
      "-14.236641029229524 -14.124871253967285\n",
      "-14.236641029229524 -14.12486457824707\n",
      "-14.236641029229524 -14.124865531921387\n",
      "-14.236641029229524 -14.124869346618652\n"
     ]
    },
    {
     "name": "stderr",
     "output_type": "stream",
     "text": [
      " 13%|█▎        | 40/300 [00:01<00:11, 23.01it/s]"
     ]
    },
    {
     "name": "stdout",
     "output_type": "stream",
     "text": [
      "-14.236641029229524 -14.12486457824707\n",
      "-22.976277185714785 -22.735042572021484\n",
      "-22.976277185714785 -22.73504066467285\n",
      "-22.976277185714785 -22.73504066467285\n",
      "-22.976277185714785 -22.73504066467285\n"
     ]
    },
    {
     "name": "stderr",
     "output_type": "stream",
     "text": [
      " 15%|█▌        | 46/300 [00:01<00:10, 23.89it/s]"
     ]
    },
    {
     "name": "stdout",
     "output_type": "stream",
     "text": [
      "-22.976277185714785 -22.73504066467285\n",
      "-22.976277185714785 -22.73504066467285\n",
      "-14.23914033747938 -14.127266883850098\n",
      "-14.23914033747938 -14.127267837524414\n",
      "-14.23914033747938 -14.127265930175781\n",
      "-14.23914033747938 -14.127266883850098\n"
     ]
    },
    {
     "name": "stderr",
     "output_type": "stream",
     "text": [
      " 16%|█▋        | 49/300 [00:02<00:11, 22.56it/s]"
     ]
    },
    {
     "name": "stdout",
     "output_type": "stream",
     "text": [
      "-14.23914033747938 -14.127265930175781\n",
      "-14.23914033747938 -14.127269744873047\n",
      "-22.976212368516 -22.73508071899414\n",
      "-22.976212368516 -22.73508071899414\n",
      "-22.976212368516 -22.735082626342773\n"
     ]
    },
    {
     "name": "stderr",
     "output_type": "stream",
     "text": [
      " 18%|█▊        | 55/300 [00:02<00:10, 24.08it/s]"
     ]
    },
    {
     "name": "stdout",
     "output_type": "stream",
     "text": [
      "-22.976212368516 -22.73508071899414\n",
      "-22.976212368516 -22.73508071899414\n",
      "-22.976212368516 -22.73508071899414\n",
      "-14.240436815123248 -14.127227783203125\n",
      "-14.240436815123248 -14.127227783203125\n",
      "-14.240436815123248 -14.127228736877441\n"
     ]
    },
    {
     "name": "stderr",
     "output_type": "stream",
     "text": [
      " 20%|██        | 61/300 [00:02<00:09, 24.19it/s]"
     ]
    },
    {
     "name": "stdout",
     "output_type": "stream",
     "text": [
      "-14.240436815123248 -14.127228736877441\n",
      "-14.240436815123248 -14.127230644226074\n",
      "-14.240436815123248 -14.127228736877441\n",
      "-22.97614495703864 -22.735050201416016\n",
      "-22.97614495703864 -22.735048294067383\n"
     ]
    },
    {
     "name": "stderr",
     "output_type": "stream",
     "text": [
      " 22%|██▏       | 67/300 [00:02<00:09, 25.33it/s]"
     ]
    },
    {
     "name": "stdout",
     "output_type": "stream",
     "text": [
      "-22.97614495703864 -22.735050201416016\n",
      "-22.97614495703864 -22.735050201416016\n",
      "-22.97614495703864 -22.735050201416016\n",
      "-22.97614495703864 -22.735050201416016\n",
      "-14.240671522910905 -14.127413749694824\n",
      "-14.240671522910905 -14.127413749694824\n"
     ]
    },
    {
     "name": "stderr",
     "output_type": "stream",
     "text": [
      " 24%|██▍       | 73/300 [00:03<00:09, 25.07it/s]"
     ]
    },
    {
     "name": "stdout",
     "output_type": "stream",
     "text": [
      "-14.240671522910905 -14.127413749694824\n",
      "-14.240671522910905 -14.127412796020508\n",
      "-14.240671522910905 -14.127413749694824\n",
      "-14.240671522910905 -14.127413749694824\n",
      "-22.976471959639014 -22.733444213867188\n",
      "-22.976471959639014 -22.733489990234375\n"
     ]
    },
    {
     "name": "stderr",
     "output_type": "stream",
     "text": [
      " 26%|██▋       | 79/300 [00:03<00:08, 25.37it/s]"
     ]
    },
    {
     "name": "stdout",
     "output_type": "stream",
     "text": [
      "-22.976471959639014 -22.733440399169922\n",
      "-22.976471959639014 -22.73349952697754\n",
      "-22.976471959639014 -22.733440399169922\n",
      "-22.976471959639014 -22.733461380004883\n",
      "-14.229224212985788 -14.1173095703125\n"
     ]
    },
    {
     "name": "stderr",
     "output_type": "stream",
     "text": [
      " 27%|██▋       | 82/300 [00:03<00:08, 25.44it/s]"
     ]
    },
    {
     "name": "stdout",
     "output_type": "stream",
     "text": [
      "-14.229224212985788 -14.117300033569336\n",
      "-14.229224212985788 -14.11730670928955\n",
      "-14.229224212985788 -14.117298126220703\n",
      "-14.229224212985788 -14.117300033569336\n",
      "-14.229224212985788 -14.117298126220703\n"
     ]
    },
    {
     "name": "stderr",
     "output_type": "stream",
     "text": [
      " 29%|██▉       | 88/300 [00:03<00:08, 23.88it/s]"
     ]
    },
    {
     "name": "stdout",
     "output_type": "stream",
     "text": [
      "-22.976215853533017 -22.735088348388672\n",
      "-22.976215853533017 -22.73508644104004\n",
      "-22.976215853533017 -22.735088348388672\n",
      "-22.976215853533017 -22.735088348388672\n",
      "-22.976215853533017 -22.73508644104004\n"
     ]
    },
    {
     "name": "stderr",
     "output_type": "stream",
     "text": [
      " 31%|███▏      | 94/300 [00:03<00:08, 24.65it/s]"
     ]
    },
    {
     "name": "stdout",
     "output_type": "stream",
     "text": [
      "-22.976215853533017 -22.735088348388672\n",
      "-14.240707451683493 -14.127212524414062\n",
      "-14.240707451683493 -14.127211570739746\n",
      "-14.240707451683493 -14.12721061706543\n",
      "-14.240707451683493 -14.127214431762695\n"
     ]
    },
    {
     "name": "stderr",
     "output_type": "stream",
     "text": [
      " 32%|███▏      | 97/300 [00:04<00:08, 23.96it/s]"
     ]
    },
    {
     "name": "stdout",
     "output_type": "stream",
     "text": [
      "-14.240707451683493 -14.127212524414062\n",
      "-14.240707451683493 -14.127213478088379\n",
      "-22.976237531102004 -22.73506736755371\n",
      "-22.976237531102004 -22.73506736755371\n",
      "-22.976237531102004 -22.73506736755371\n"
     ]
    },
    {
     "name": "stderr",
     "output_type": "stream",
     "text": [
      " 34%|███▍      | 103/300 [00:04<00:08, 23.26it/s]"
     ]
    },
    {
     "name": "stdout",
     "output_type": "stream",
     "text": [
      "-22.976237531102004 -22.73506736755371\n",
      "-22.976237531102004 -22.73506736755371\n",
      "-22.976237531102004 -22.73506736755371\n",
      "-14.240769091224015 -14.127508163452148\n",
      "-14.240769091224015 -14.127508163452148\n"
     ]
    },
    {
     "name": "stderr",
     "output_type": "stream",
     "text": [
      " 36%|███▋      | 109/300 [00:04<00:07, 24.29it/s]"
     ]
    },
    {
     "name": "stdout",
     "output_type": "stream",
     "text": [
      "-14.240769091224015 -14.127507209777832\n",
      "-14.240769091224015 -14.127508163452148\n",
      "-14.240769091224015 -14.127508163452148\n",
      "-14.240769091224015 -14.127507209777832\n",
      "-22.974379040884788 -22.732622146606445\n"
     ]
    },
    {
     "name": "stderr",
     "output_type": "stream",
     "text": [
      " 37%|███▋      | 112/300 [00:04<00:07, 24.17it/s]"
     ]
    },
    {
     "name": "stdout",
     "output_type": "stream",
     "text": [
      "-22.974379040884788 -22.73263168334961\n",
      "-22.974379040884788 -22.732629776000977\n",
      "-22.974379040884788 -22.732627868652344\n",
      "-22.974379040884788 -22.732633590698242\n",
      "-22.974379040884788 -22.732633590698242\n"
     ]
    },
    {
     "name": "stderr",
     "output_type": "stream",
     "text": [
      " 39%|███▉      | 118/300 [00:04<00:07, 23.50it/s]"
     ]
    },
    {
     "name": "stdout",
     "output_type": "stream",
     "text": [
      "-14.240929239110852 -14.127015113830566\n",
      "-14.240929239110852 -14.12701416015625\n",
      "-14.240929239110852 -14.127015113830566\n",
      "-14.240929239110852 -14.127015113830566\n",
      "-14.240929239110852 -14.12701416015625\n"
     ]
    },
    {
     "name": "stderr",
     "output_type": "stream",
     "text": [
      " 41%|████▏     | 124/300 [00:05<00:07, 23.65it/s]"
     ]
    },
    {
     "name": "stdout",
     "output_type": "stream",
     "text": [
      "-14.240929239110852 -14.127015113830566\n",
      "-22.97177475871416 -22.728071212768555\n",
      "-22.97177475871416 -22.72808074951172\n",
      "-22.97177475871416 -22.72808074951172\n",
      "-22.97177475871416 -22.728078842163086\n"
     ]
    },
    {
     "name": "stderr",
     "output_type": "stream",
     "text": [
      " 43%|████▎     | 130/300 [00:05<00:06, 24.41it/s]"
     ]
    },
    {
     "name": "stdout",
     "output_type": "stream",
     "text": [
      "-22.97177475871416 -22.728076934814453\n",
      "-22.97177475871416 -22.728069305419922\n",
      "-14.24048826239902 -14.127197265625\n",
      "-14.24048826239902 -14.127195358276367\n",
      "-14.24048826239902 -14.127195358276367\n",
      "-14.24048826239902 -14.127196311950684\n"
     ]
    },
    {
     "name": "stderr",
     "output_type": "stream",
     "text": [
      " 44%|████▍     | 133/300 [00:05<00:06, 24.44it/s]"
     ]
    },
    {
     "name": "stdout",
     "output_type": "stream",
     "text": [
      "-14.24048826239902 -14.12719440460205\n",
      "-14.24048826239902 -14.127196311950684\n",
      "-22.969434560224524 -22.72551727294922\n",
      "-22.969434560224524 -22.72551918029785\n",
      "-22.969434560224524 -22.72551155090332\n"
     ]
    },
    {
     "name": "stderr",
     "output_type": "stream",
     "text": [
      " 46%|████▋     | 139/300 [00:05<00:06, 23.95it/s]"
     ]
    },
    {
     "name": "stdout",
     "output_type": "stream",
     "text": [
      "-22.969434560224524 -22.72551155090332\n",
      "-22.969434560224524 -22.72551727294922\n",
      "-22.969434560224524 -22.72551155090332\n",
      "-14.239632329512157 -14.127063751220703\n",
      "-14.239632329512157 -14.127065658569336\n",
      "-14.239632329512157 -14.127063751220703\n"
     ]
    },
    {
     "name": "stderr",
     "output_type": "stream",
     "text": [
      " 48%|████▊     | 145/300 [00:06<00:06, 24.87it/s]"
     ]
    },
    {
     "name": "stdout",
     "output_type": "stream",
     "text": [
      "-14.239632329512157 -14.127065658569336\n",
      "-14.239632329512157 -14.12706470489502\n",
      "-14.239632329512157 -14.127065658569336\n",
      "-22.969951208111045 -22.727214813232422\n",
      "-22.969951208111045 -22.727214813232422\n"
     ]
    },
    {
     "name": "stderr",
     "output_type": "stream",
     "text": [
      " 50%|█████     | 151/300 [00:06<00:05, 25.41it/s]"
     ]
    },
    {
     "name": "stdout",
     "output_type": "stream",
     "text": [
      "-22.969951208111045 -22.727214813232422\n",
      "-22.969951208111045 -22.727222442626953\n",
      "-22.969951208111045 -22.727214813232422\n",
      "-22.969951208111045 -22.72721290588379\n",
      "-14.239724391025211 -14.127132415771484\n",
      "-14.239724391025211 -14.127134323120117\n"
     ]
    },
    {
     "name": "stderr",
     "output_type": "stream",
     "text": [
      " 52%|█████▏    | 157/300 [00:06<00:05, 25.51it/s]"
     ]
    },
    {
     "name": "stdout",
     "output_type": "stream",
     "text": [
      "-14.239724391025211 -14.127134323120117\n",
      "-14.239724391025211 -14.127134323120117\n",
      "-14.239724391025211 -14.127134323120117\n",
      "-14.239724391025211 -14.127134323120117\n",
      "-22.976122455709067 -22.735063552856445\n"
     ]
    },
    {
     "name": "stderr",
     "output_type": "stream",
     "text": [
      " 54%|█████▍    | 163/300 [00:06<00:05, 25.04it/s]"
     ]
    },
    {
     "name": "stdout",
     "output_type": "stream",
     "text": [
      "-22.976122455709067 -22.735063552856445\n",
      "-22.976122455709067 -22.735063552856445\n",
      "-22.976122455709067 -22.735065460205078\n",
      "-22.976122455709067 -22.735063552856445\n",
      "-22.976122455709067 -22.735063552856445\n",
      "-14.239268328910445 -14.127374649047852\n"
     ]
    },
    {
     "name": "stderr",
     "output_type": "stream",
     "text": [
      " 55%|█████▌    | 166/300 [00:06<00:05, 24.49it/s]"
     ]
    },
    {
     "name": "stdout",
     "output_type": "stream",
     "text": [
      "-14.239268328910445 -14.127374649047852\n",
      "-14.239268328910445 -14.127374649047852\n",
      "-14.239268328910445 -14.127374649047852\n",
      "-14.239268328910445 -14.127373695373535\n",
      "-14.239268328910445 -14.127372741699219\n"
     ]
    },
    {
     "name": "stderr",
     "output_type": "stream",
     "text": [
      " 57%|█████▋    | 172/300 [00:07<00:05, 23.72it/s]"
     ]
    },
    {
     "name": "stdout",
     "output_type": "stream",
     "text": [
      "-22.976175368666556 -22.735088348388672\n",
      "-22.976175368666556 -22.73508644104004\n",
      "-22.976175368666556 -22.73508644104004\n",
      "-22.976175368666556 -22.73508644104004\n",
      "-22.976175368666556 -22.73508644104004\n"
     ]
    },
    {
     "name": "stderr",
     "output_type": "stream",
     "text": [
      " 59%|█████▉    | 178/300 [00:07<00:04, 25.03it/s]"
     ]
    },
    {
     "name": "stdout",
     "output_type": "stream",
     "text": [
      "-22.976175368666556 -22.73508644104004\n",
      "-14.239344531802534 -14.126456260681152\n",
      "-14.239344531802534 -14.126456260681152\n",
      "-14.239344531802534 -14.126456260681152\n",
      "-14.239344531802534 -14.126456260681152\n",
      "-14.239344531802534 -14.126456260681152\n"
     ]
    },
    {
     "name": "stderr",
     "output_type": "stream",
     "text": [
      " 61%|██████▏   | 184/300 [00:07<00:04, 23.35it/s]"
     ]
    },
    {
     "name": "stdout",
     "output_type": "stream",
     "text": [
      "-14.239344531802534 -14.126455307006836\n",
      "-22.976606164560227 -22.734529495239258\n",
      "-22.976606164560227 -22.734529495239258\n",
      "-22.976606164560227 -22.73453140258789\n",
      "-22.976606164560227 -22.73453140258789\n"
     ]
    },
    {
     "name": "stderr",
     "output_type": "stream",
     "text": [
      " 63%|██████▎   | 190/300 [00:07<00:04, 23.81it/s]"
     ]
    },
    {
     "name": "stdout",
     "output_type": "stream",
     "text": [
      "-22.976606164560227 -22.73453140258789\n",
      "-22.976606164560227 -22.73453140258789\n",
      "-14.240635122393556 -14.127954483032227\n",
      "-14.240635122393556 -14.127954483032227\n",
      "-14.240635122393556 -14.12795352935791\n",
      "-14.240635122393556 -14.127950668334961\n"
     ]
    },
    {
     "name": "stderr",
     "output_type": "stream",
     "text": [
      " 65%|██████▌   | 196/300 [00:08<00:04, 24.24it/s]"
     ]
    },
    {
     "name": "stdout",
     "output_type": "stream",
     "text": [
      "-14.240635122393556 -14.127954483032227\n",
      "-14.240635122393556 -14.127954483032227\n",
      "-22.974237286255647 -22.73112678527832\n",
      "-22.974237286255647 -22.73112678527832\n",
      "-22.974237286255647 -22.731124877929688\n",
      "-22.974237286255647 -22.731124877929688\n"
     ]
    },
    {
     "name": "stderr",
     "output_type": "stream",
     "text": [
      " 67%|██████▋   | 202/300 [00:08<00:03, 25.27it/s]"
     ]
    },
    {
     "name": "stdout",
     "output_type": "stream",
     "text": [
      "-22.974237286255647 -22.73112678527832\n",
      "-22.974237286255647 -22.73112678527832\n",
      "-14.23775971967107 -14.125226020812988\n",
      "-14.23775971967107 -14.125227928161621\n",
      "-14.23775971967107 -14.125225067138672\n",
      "-14.23775971967107 -14.125227928161621\n"
     ]
    },
    {
     "name": "stderr",
     "output_type": "stream",
     "text": [
      " 68%|██████▊   | 205/300 [00:08<00:03, 24.96it/s]"
     ]
    },
    {
     "name": "stdout",
     "output_type": "stream",
     "text": [
      "-14.23775971967107 -14.125227928161621\n",
      "-14.23775971967107 -14.125227928161621\n",
      "-22.958113491974924 -22.710315704345703\n",
      "-22.958113491974924 -22.710308074951172\n",
      "-22.958113491974924 -22.710309982299805\n"
     ]
    },
    {
     "name": "stderr",
     "output_type": "stream",
     "text": [
      " 70%|███████   | 211/300 [00:08<00:03, 23.13it/s]"
     ]
    },
    {
     "name": "stdout",
     "output_type": "stream",
     "text": [
      "-22.958113491974924 -22.710315704345703\n",
      "-22.958113491974924 -22.710311889648438\n",
      "-22.958113491974924 -22.710317611694336\n",
      "-14.22764375851966 -14.116606712341309\n"
     ]
    },
    {
     "name": "stderr",
     "output_type": "stream",
     "text": [
      " 71%|███████▏  | 214/300 [00:08<00:03, 22.31it/s]"
     ]
    },
    {
     "name": "stdout",
     "output_type": "stream",
     "text": [
      "-14.22764375851966 -14.116606712341309\n",
      "-14.22764375851966 -14.116613388061523\n",
      "-14.22764375851966 -14.116606712341309\n",
      "-14.22764375851966 -14.11660099029541\n",
      "-14.22764375851966 -14.116613388061523\n"
     ]
    },
    {
     "name": "stderr",
     "output_type": "stream",
     "text": [
      " 73%|███████▎  | 220/300 [00:09<00:03, 23.29it/s]"
     ]
    },
    {
     "name": "stdout",
     "output_type": "stream",
     "text": [
      "-22.972039162218508 -22.728511810302734\n",
      "-22.972039162218508 -22.728513717651367\n",
      "-22.972039162218508 -22.728513717651367\n",
      "-22.972039162218508 -22.728511810302734\n",
      "-22.972039162218508 -22.7285213470459\n"
     ]
    },
    {
     "name": "stderr",
     "output_type": "stream",
     "text": [
      " 75%|███████▌  | 226/300 [00:09<00:03, 24.11it/s]"
     ]
    },
    {
     "name": "stdout",
     "output_type": "stream",
     "text": [
      "-22.972039162218508 -22.728513717651367\n",
      "-14.239408080387172 -14.12649154663086\n",
      "-14.239408080387172 -14.126493453979492\n",
      "-14.239408080387172 -14.12649154663086\n",
      "-14.239408080387172 -14.12649154663086\n"
     ]
    },
    {
     "name": "stderr",
     "output_type": "stream",
     "text": [
      " 76%|███████▋  | 229/300 [00:09<00:02, 24.36it/s]"
     ]
    },
    {
     "name": "stdout",
     "output_type": "stream",
     "text": [
      "-14.239408080387172 -14.126493453979492\n",
      "-14.239408080387172 -14.12649154663086\n",
      "-22.97151387941773 -22.728097915649414\n",
      "-22.97151387941773 -22.728105545043945\n",
      "-22.97151387941773 -22.728099822998047\n",
      "-22.97151387941773 -22.72809410095215\n"
     ]
    },
    {
     "name": "stderr",
     "output_type": "stream",
     "text": [
      " 79%|███████▉  | 238/300 [00:09<00:02, 24.17it/s]"
     ]
    },
    {
     "name": "stdout",
     "output_type": "stream",
     "text": [
      "-22.97151387941773 -22.72810173034668\n",
      "-22.97151387941773 -22.728099822998047\n",
      "-14.240123541118887 -14.126954078674316\n",
      "-14.240123541118887 -14.126954078674316\n",
      "-14.240123541118887 -14.126955032348633\n",
      "-14.240123541118887 -14.126954078674316\n"
     ]
    },
    {
     "name": "stderr",
     "output_type": "stream",
     "text": [
      " 81%|████████▏ | 244/300 [00:10<00:02, 24.24it/s]"
     ]
    },
    {
     "name": "stdout",
     "output_type": "stream",
     "text": [
      "-14.240123541118887 -14.126955032348633\n",
      "-14.240123541118887 -14.126955032348633\n",
      "-22.967345192906745 -22.72132682800293\n",
      "-22.967345192906745 -22.721328735351562\n",
      "-22.967345192906745 -22.72132682800293\n",
      "-22.967345192906745 -22.72132682800293\n"
     ]
    },
    {
     "name": "stderr",
     "output_type": "stream",
     "text": [
      " 83%|████████▎ | 250/300 [00:10<00:02, 24.57it/s]"
     ]
    },
    {
     "name": "stdout",
     "output_type": "stream",
     "text": [
      "-22.967345192906745 -22.72132682800293\n",
      "-22.967345192906745 -22.721332550048828\n",
      "-14.223125150917694 -14.111743927001953\n",
      "-14.223125150917694 -14.111750602722168\n",
      "-14.223125150917694 -14.111751556396484\n",
      "-14.223125150917694 -14.111743927001953\n"
     ]
    },
    {
     "name": "stderr",
     "output_type": "stream",
     "text": [
      " 84%|████████▍ | 253/300 [00:10<00:01, 24.82it/s]"
     ]
    },
    {
     "name": "stdout",
     "output_type": "stream",
     "text": [
      "-14.223125150917694 -14.111750602722168\n",
      "-14.223125150917694 -14.111743927001953\n",
      "-22.975877276171797 -22.733549118041992\n",
      "-22.975877276171797 -22.733545303344727\n",
      "-22.975877276171797 -22.733545303344727\n"
     ]
    },
    {
     "name": "stderr",
     "output_type": "stream",
     "text": [
      " 86%|████████▋ | 259/300 [00:10<00:01, 23.46it/s]"
     ]
    },
    {
     "name": "stdout",
     "output_type": "stream",
     "text": [
      "-22.975877276171797 -22.733545303344727\n",
      "-22.975877276171797 -22.73354721069336\n",
      "-22.975877276171797 -22.733549118041992\n",
      "-14.240126838922446 -14.12700366973877\n",
      "-14.240126838922446 -14.12700366973877\n"
     ]
    },
    {
     "name": "stderr",
     "output_type": "stream",
     "text": [
      " 88%|████████▊ | 265/300 [00:11<00:01, 22.94it/s]"
     ]
    },
    {
     "name": "stdout",
     "output_type": "stream",
     "text": [
      "-14.240126838922446 -14.12700366973877\n",
      "-14.240126838922446 -14.12700366973877\n",
      "-14.240126838922446 -14.127001762390137\n",
      "-14.240126838922446 -14.12700366973877\n",
      "-22.976265286933945 -22.73499870300293\n"
     ]
    },
    {
     "name": "stderr",
     "output_type": "stream",
     "text": [
      " 89%|████████▉ | 268/300 [00:11<00:01, 23.25it/s]"
     ]
    },
    {
     "name": "stdout",
     "output_type": "stream",
     "text": [
      "-22.976265286933945 -22.734996795654297\n",
      "-22.976265286933945 -22.734996795654297\n",
      "-22.976265286933945 -22.734996795654297\n",
      "-22.976265286933945 -22.734996795654297\n",
      "-22.976265286933945 -22.734996795654297\n"
     ]
    },
    {
     "name": "stderr",
     "output_type": "stream",
     "text": [
      " 91%|█████████▏| 274/300 [00:11<00:01, 24.03it/s]"
     ]
    },
    {
     "name": "stdout",
     "output_type": "stream",
     "text": [
      "-14.24034981464117 -14.127082824707031\n",
      "-14.24034981464117 -14.127083778381348\n",
      "-14.24034981464117 -14.127082824707031\n",
      "-14.24034981464117 -14.127082824707031\n",
      "-14.24034981464117 -14.127082824707031\n",
      "-14.24034981464117 -14.127082824707031\n"
     ]
    },
    {
     "name": "stderr",
     "output_type": "stream",
     "text": [
      " 93%|█████████▎| 280/300 [00:11<00:00, 23.71it/s]"
     ]
    },
    {
     "name": "stdout",
     "output_type": "stream",
     "text": [
      "-22.97616176553056 -22.73508071899414\n",
      "-22.97616176553056 -22.73508071899414\n",
      "-22.97616176553056 -22.73508071899414\n",
      "-22.97616176553056 -22.73508071899414\n",
      "-22.97616176553056 -22.73508071899414\n"
     ]
    },
    {
     "name": "stderr",
     "output_type": "stream",
     "text": [
      " 95%|█████████▌| 286/300 [00:11<00:00, 24.26it/s]"
     ]
    },
    {
     "name": "stdout",
     "output_type": "stream",
     "text": [
      "-22.97616176553056 -22.73508071899414\n",
      "-14.239701176907603 -14.127662658691406\n",
      "-14.239701176907603 -14.12766170501709\n",
      "-14.239701176907603 -14.127663612365723\n",
      "-14.239701176907603 -14.127662658691406\n",
      "-14.239701176907603 -14.127662658691406\n"
     ]
    },
    {
     "name": "stderr",
     "output_type": "stream",
     "text": [
      " 97%|█████████▋| 292/300 [00:12<00:00, 24.58it/s]"
     ]
    },
    {
     "name": "stdout",
     "output_type": "stream",
     "text": [
      "-14.239701176907603 -14.127662658691406\n",
      "-22.97619327238513 -22.73506736755371\n",
      "-22.97619327238513 -22.73506736755371\n",
      "-22.97619327238513 -22.73506736755371\n",
      "-22.97619327238513 -22.73506736755371\n",
      "-22.97619327238513 -22.73506736755371\n"
     ]
    },
    {
     "name": "stderr",
     "output_type": "stream",
     "text": [
      " 99%|█████████▉| 298/300 [00:12<00:00, 22.81it/s]"
     ]
    },
    {
     "name": "stdout",
     "output_type": "stream",
     "text": [
      "-22.97619327238513 -22.73506736755371\n",
      "-14.239388563453597 -14.126523971557617\n",
      "-14.239388563453597 -14.126521110534668\n",
      "-14.239388563453597 -14.1265230178833\n",
      "-14.239388563453597 -14.126523971557617\n"
     ]
    },
    {
     "name": "stderr",
     "output_type": "stream",
     "text": [
      "100%|██████████| 300/300 [00:12<00:00, 23.99it/s]"
     ]
    },
    {
     "name": "stdout",
     "output_type": "stream",
     "text": [
      "-14.239388563453597 -14.1265230178833\n",
      "-14.239388563453597 -14.126522064208984\n"
     ]
    },
    {
     "name": "stderr",
     "output_type": "stream",
     "text": [
      "\n"
     ]
    }
   ],
   "source": [
    "test_atoms_list = read(\n",
    "    \"dataset/gold-odac-2024/v1/test.xyz\", \":\"\n",
    ")  # TODO: val vs test, v0 vs v1\n",
    "collections = []\n",
    "for atoms in tqdm(test_atoms_list):\n",
    "    # get gas and structure\n",
    "    tag = atoms.get_tags()\n",
    "    frame = atoms[tag == 0]\n",
    "    gas = atoms[tag == 1]\n",
    "    assert str(gas.symbols) in [\"H2O\", \"CO2\"]\n",
    "    pred_gas_e = finetuning_mace_calc.get_potential_energy(gas)\n",
    "    print(atoms.info[\"DFT_E_gas\"], pred_gas_e)"
   ]
  },
  {
   "cell_type": "code",
   "execution_count": 12,
   "metadata": {},
   "outputs": [
    {
     "name": "stderr",
     "output_type": "stream",
     "text": [
      "100%|██████████| 300/300 [03:02<00:00,  1.64it/s]\n"
     ]
    }
   ],
   "source": [
    "test_atoms_list = read(\n",
    "    \"dataset/gold-odac-2024/v1/test.xyz\", \":\"\n",
    ")  # TODO: val vs test, v0 vs v1\n",
    "collections = []\n",
    "for atoms in tqdm(test_atoms_list):\n",
    "    # get gas and structure\n",
    "    tag = atoms.get_tags()\n",
    "    frame = atoms[tag == 0]\n",
    "    gas = atoms[tag == 1]\n",
    "    assert str(gas.symbols) in [\"H2O\", \"CO2\"]\n",
    "\n",
    "    # dft energy\n",
    "    dft_t_e = atoms.info[\"DFT_E_total\"]\n",
    "    dft_t_e_per_atom = dft_t_e / len(atoms)\n",
    "    dft_i_e = atoms.info[\"DFT_E_int\"]\n",
    "    dft_f = atoms.arrays[\"forces\"]\n",
    "\n",
    "    # mace-mp\n",
    "    mace_mp_t_e = mace_calc.get_potential_energy(atoms)\n",
    "    mace_mp_t_e_per_atom = mace_mp_t_e / len(atoms)\n",
    "    mace_mp_i_e = (\n",
    "        mace_mp_t_e\n",
    "        - mace_calc.get_potential_energy(frame)\n",
    "        - mace_calc.get_potential_energy(gas)\n",
    "    )\n",
    "    mace_mp_f = mace_calc.get_forces(atoms)\n",
    "\n",
    "    # finetuning\n",
    "    finetuning_t_e = finetuning_mace_calc.get_potential_energy(atoms)\n",
    "    finetuning_t_e_per_atom = finetuning_t_e / len(atoms)\n",
    "    finetuning_i_e = (\n",
    "        finetuning_t_e\n",
    "        - finetuning_mace_calc.get_potential_energy(frame)\n",
    "        - finetuning_mace_calc.get_potential_energy(gas)\n",
    "    )\n",
    "    finetuning_f = finetuning_mace_calc.get_forces(atoms)\n",
    "\n",
    "    collections.append(\n",
    "        {\n",
    "            \"dft_t_e\": dft_t_e,\n",
    "            \"dft_t_e_per_atom\": dft_t_e_per_atom,\n",
    "            \"dft_i_e\": dft_i_e,\n",
    "            \"dft_f\": dft_f,\n",
    "            \"mace_mp_t_e\": mace_mp_t_e,\n",
    "            \"mace_mp_t_e_per_atom\": mace_mp_t_e_per_atom,\n",
    "            \"mace_mp_i_e\": mace_mp_i_e,\n",
    "            \"mace_mp_f\": mace_mp_f,\n",
    "            \"finetuning_t_e\": finetuning_t_e,\n",
    "            \"finetuning_t_e_per_atom\": finetuning_t_e_per_atom,\n",
    "            \"finetuning_i_e\": finetuning_i_e,\n",
    "            \"finetuning_f\": finetuning_f,\n",
    "        }\n",
    "    )\n",
    "df_result = pd.DataFrame(collections)"
   ]
  },
  {
   "cell_type": "code",
   "execution_count": 21,
   "metadata": {},
   "outputs": [],
   "source": [
    "# df_result_clean = df_result[df_result[\"dft_i_e\"] < 2]  # TODO\n",
    "df_result_clean = df_result\n",
    "mae_mace_mp_t_e_per_atom = np.mean(\n",
    "    np.abs(df_result[\"dft_t_e_per_atom\"] - df_result[\"mace_mp_t_e_per_atom\"])\n",
    ")\n",
    "mae_mace_mp_t_e = np.mean(np.abs(df_result[\"dft_t_e\"] - df_result[\"mace_mp_t_e\"]))\n",
    "mae_mace_mp_i_e = np.mean(\n",
    "    np.abs(df_result_clean[\"dft_i_e\"] - df_result_clean[\"mace_mp_i_e\"])\n",
    ")\n",
    "mae_finetuning_t_e_per_atom = np.mean(\n",
    "    np.abs(df_result[\"dft_t_e_per_atom\"] - df_result[\"finetuning_t_e_per_atom\"])\n",
    ")\n",
    "mae_finetuning_t_e = np.mean(np.abs(df_result[\"dft_t_e\"] - df_result[\"finetuning_t_e\"]))\n",
    "mae_finetuning_i_e = np.mean(\n",
    "    np.abs(df_result_clean[\"dft_i_e\"] - df_result_clean[\"finetuning_i_e\"])\n",
    ")\n",
    "\n",
    "dft_f = np.concatenate(df_result[\"dft_f\"].values)\n",
    "mace_mp_f = np.concatenate(df_result[\"mace_mp_f\"].values)\n",
    "finetuning_f = np.concatenate(df_result[\"finetuning_f\"].values)\n",
    "pretrain_f_mae = np.mean(np.abs(dft_f - mace_mp_f))\n",
    "finetuning_f_mae = np.mean(np.abs(dft_f - finetuning_f))"
   ]
  },
  {
   "cell_type": "code",
   "execution_count": 22,
   "metadata": {},
   "outputs": [
    {
     "data": {
      "text/plain": [
       "Text(0.95, 0.05, 'mae_mace_mp_t_e_per_atom: 0.028\\nmae_finetuning_t_e_per_atom: 0.020\\nmae_mace_mp_f: 0.134\\nmae_finetuning_f: 0.137')"
      ]
     },
     "execution_count": 22,
     "metadata": {},
     "output_type": "execute_result"
    },
    {
     "data": {
      "image/png": "[encoded data removed]",
      "text/plain": [
       "<Figure size 600x600 with 1 Axes>"
      ]
     },
     "metadata": {},
     "output_type": "display_data"
    }
   ],
   "source": [
    "fig, ax = plt.subplots(1, 1, figsize=(6, 6))\n",
    "sns.scatterplot(\n",
    "    x=\"dft_t_e_per_atom\",\n",
    "    y=\"mace_mp_t_e_per_atom\",\n",
    "    data=df_result,\n",
    "    ax=ax,\n",
    "    label=\"mace-mp\",\n",
    ")\n",
    "sns.scatterplot(\n",
    "    x=\"dft_t_e_per_atom\",\n",
    "    y=\"finetuning_t_e_per_atom\",\n",
    "    data=df_result,\n",
    "    ax=ax,\n",
    "    label=\"finetuning\",\n",
    ")\n",
    "ax.set_xlabel(\"DFT total energy per atom (eV/atom)\")\n",
    "ax.set_ylabel(\"predicted energy per atom (eV/atom)\")\n",
    "# y = x line\n",
    "xlim = (-7.5, -6)\n",
    "ylim = (-7.5, -6)\n",
    "ax.set_xlim(xlim)\n",
    "ax.set_ylim(ylim)\n",
    "ax.plot(xlim, ylim, color=\"black\", linestyle=\"--\")\n",
    "# aspect ratio\n",
    "ax.set_aspect(\"equal\")\n",
    "# annotation mae\n",
    "ax.text(\n",
    "    0.95,\n",
    "    0.05,\n",
    "    (\n",
    "        f\"mae_mace_mp_t_e_per_atom: {mae_mace_mp_t_e_per_atom:.3f}\\n\"\n",
    "        f\"mae_finetuning_t_e_per_atom: {mae_finetuning_t_e_per_atom:.3f}\\n\"\n",
    "        f\"mae_mace_mp_f: {pretrain_f_mae:.3f}\\n\"  # TODO: fix\n",
    "        f\"mae_finetuning_f: {finetuning_f_mae:.3f}\"\n",
    "    ),\n",
    "    transform=ax.transAxes,\n",
    "    ha=\"right\",\n",
    "    va=\"bottom\",\n",
    ")"
   ]
  },
  {
   "cell_type": "code",
   "execution_count": 23,
   "metadata": {},
   "outputs": [
    {
     "data": {
      "text/plain": [
       "Text(0.95, 0.05, 'mae_mace_mp_i_e: 0.341\\nmae_finetuning_i_e: 0.345\\n')"
      ]
     },
     "execution_count": 23,
     "metadata": {},
     "output_type": "execute_result"
    },
    {
     "data": {
      "image/png": "[encoded data removed]",
      "text/plain": [
       "<Figure size 600x600 with 1 Axes>"
      ]
     },
     "metadata": {},
     "output_type": "display_data"
    }
   ],
   "source": [
    "fig, ax = plt.subplots(1, 1, figsize=(6, 6))\n",
    "sns.scatterplot(\n",
    "    x=\"dft_i_e\",\n",
    "    y=\"mace_mp_i_e\",\n",
    "    data=df_result,\n",
    "    ax=ax,\n",
    "    label=\"mace-mp\",\n",
    ")\n",
    "sns.scatterplot(\n",
    "    x=\"dft_i_e\",\n",
    "    y=\"finetuning_i_e\",\n",
    "    data=df_result,\n",
    "    ax=ax,\n",
    "    label=\"finetuning\",\n",
    ")\n",
    "ax.set_xlabel(\"DFT interaction energy (eV)\")\n",
    "ax.set_ylabel(\"predicted interaction energy (eV)\")\n",
    "# y = x line\n",
    "xlim = (-2, 10)\n",
    "ylim = (-2, 10)\n",
    "ax.set_xlim(xlim)\n",
    "ax.set_ylim(ylim)\n",
    "ax.plot(xlim, ylim, color=\"black\", linestyle=\"--\")\n",
    "# aspect ratio\n",
    "ax.set_aspect(\"equal\")\n",
    "# annotation mae\n",
    "ax.text(\n",
    "    0.95,\n",
    "    0.05,\n",
    "    (\n",
    "        f\"mae_mace_mp_i_e: {mae_mace_mp_i_e:.3f}\\n\"\n",
    "        f\"mae_finetuning_i_e: {mae_finetuning_i_e:.3f}\\n\"\n",
    "    ),\n",
    "    transform=ax.transAxes,\n",
    "    ha=\"right\",\n",
    "    va=\"bottom\",\n",
    ")"
   ]
  },
  {
   "cell_type": "code",
   "execution_count": null,
   "metadata": {},
   "outputs": [],
   "source": [
    "# mace_calc.get_atoms()\n",
    "mace_calc.models"
   ]
  },
  {
   "cell_type": "code",
   "execution_count": null,
   "metadata": {},
   "outputs": [],
   "source": []
  },
  {
   "cell_type": "code",
   "execution_count": null,
   "metadata": {},
   "outputs": [],
   "source": []
  },
  {
   "cell_type": "markdown",
   "metadata": {},
   "source": [
    "# 2. Scale, Shift Optimization"
   ]
  },
  {
   "cell_type": "code",
   "execution_count": null,
   "metadata": {},
   "outputs": [],
   "source": [
    "origin_mace_calc = mace_mp(device=\"cpu\", default_dtype=\"float32\", dispersion=False)"
   ]
  },
  {
   "cell_type": "code",
   "execution_count": null,
   "metadata": {},
   "outputs": [],
   "source": [
    "from scipy.optimize import minimize\n",
    "\n",
    "\n",
    "def optimize_scale_shift(input, atoms_list, weight_e=1.0, weight_f=0.0):\n",
    "    scale, shift = input\n",
    "    mace_model = mace_mp().models[0]\n",
    "    mace_model.scale_shift.scale = torch.tensor(scale)\n",
    "    mace_model.scale_shift.shift = torch.tensor(shift)\n",
    "    torch.save(mace_model, \"tmp.model\")\n",
    "    mace_calc = mace_mp(\n",
    "        \"tmp.model\", device=\"cpu\", default_dtype=\"float32\", dispersion=False\n",
    "    )\n",
    "    diff_e = []\n",
    "    diff_f = []\n",
    "    for atoms in tqdm(atoms_list):\n",
    "        y_e = atoms.info[\"DFT_E_int\"]\n",
    "        y_f = atoms.arrays[\"REF_forces\"]\n",
    "        x_e = mace_calc.get_potential_energy(atoms)\n",
    "        x_f = mace_calc.get_forces(atoms)\n",
    "        diff_e.append(np.abs(y_e - x_e))\n",
    "        diff_f.append(np.abs(y_f - x_f).sum())\n",
    "    mae_e = np.mean(diff_e)\n",
    "    mae_f = np.mean(diff_f)\n",
    "    loss = weight_e * mae_e + weight_f * mae_f\n",
    "    print(scale, shift, loss, mae_e, mae_f)\n",
    "    return loss\n",
    "\n",
    "\n",
    "initial_guess = (0.7174, 6.774)\n",
    "result = minimize(\n",
    "    optimize_scale_shift, initial_guess, args=(test_atoms_list,), method=\"BFGS\"\n",
    ")"
   ]
  },
  {
   "cell_type": "code",
   "execution_count": null,
   "metadata": {},
   "outputs": [],
   "source": [
    "shifted_mace_calc = mace_mp(\"tmp.model\", device=\"cuda\", default_dtype=\"float32\")\n",
    "print(shifted_mace_calc.models[0].scale_shift.scale)\n",
    "print(shifted_mace_calc.models[0].scale_shift.shift)\n",
    "collections = []\n",
    "for atoms in tqdm(test_atoms_list):\n",
    "    # dft energy\n",
    "    dftd3_int_e = atoms.info[\"DFTD3_E_int\"]\n",
    "    # mace-mp\n",
    "    # mace_mp_d3_int_e = mace_calc.get_potential_energy(atoms)\n",
    "    # shifted mace-mp\n",
    "    shifted_mace_mp_d3_int_e = shifted_mace_calc.get_potential_energy(atoms)\n",
    "    collections.append(\n",
    "        {\n",
    "            \"dftd3_int_e\": dftd3_int_e,\n",
    "            \"shifted_mace_mp_d3_int_e\": shifted_mace_mp_d3_int_e,\n",
    "        }\n",
    "    )\n",
    "df_result = pd.DataFrame(collections)"
   ]
  },
  {
   "cell_type": "code",
   "execution_count": null,
   "metadata": {},
   "outputs": [],
   "source": [
    "mae = np.mean(np.abs(df_result[\"dftd3_int_e\"] - df_result[\"shifted_mace_mp_d3_int_e\"]))\n",
    "mae"
   ]
  },
  {
   "cell_type": "code",
   "execution_count": null,
   "metadata": {},
   "outputs": [],
   "source": [
    "# plot\n",
    "fig, ax = plt.subplots(1, 1, figsize=(6, 6))\n",
    "\n",
    "sns.scatterplot(\n",
    "    x=\"dftd3_int_e\",\n",
    "    y=\"shifted_mace_mp_d3_int_e\",\n",
    "    data=df_result,\n",
    "    ax=ax,\n",
    "    label=\"shifted mace-mp-d3\",\n",
    ")\n",
    "ax.set_xlabel(\"DFTD3 interaction energy (eV)\")\n",
    "ax.set_ylabel(\"interaction energy (eV)\")\n",
    "# y = x line\n",
    "# xlim = (-7.5, -6)\n",
    "# ylim = (-7.5, -6)"
   ]
  },
  {
   "cell_type": "code",
   "execution_count": null,
   "metadata": {},
   "outputs": [],
   "source": []
  }
 ],
 "metadata": {
  "kernelspec": {
   "display_name": "mace",
   "language": "python",
   "name": "python3"
  },
  "language_info": {
   "codemirror_mode": {
    "name": "ipython",
    "version": 3
   },
   "file_extension": ".py",
   "mimetype": "text/x-python",
   "name": "python",
   "nbconvert_exporter": "python",
   "pygments_lexer": "ipython3",
   "version": "3.10.13"
  }
 },
 "nbformat": 4,
 "nbformat_minor": 2
}
